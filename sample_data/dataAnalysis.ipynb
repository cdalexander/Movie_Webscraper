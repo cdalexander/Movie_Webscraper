{
 "cells": [
  {
   "cell_type": "code",
   "execution_count": 396,
   "metadata": {},
   "outputs": [
    {
     "name": "stdout",
     "output_type": "stream",
     "text": [
      "Requirement already satisfied: openpyxl in c:\\users\\cdale\\appdata\\local\\programs\\python\\python311\\lib\\site-packages (3.1.2)\n",
      "Requirement already satisfied: et-xmlfile in c:\\users\\cdale\\appdata\\local\\programs\\python\\python311\\lib\\site-packages (from openpyxl) (1.1.0)\n"
     ]
    },
    {
     "name": "stderr",
     "output_type": "stream",
     "text": [
      "\n",
      "[notice] A new release of pip is available: 23.1.2 -> 23.3.2\n",
      "[notice] To update, run: python.exe -m pip install --upgrade pip\n"
     ]
    }
   ],
   "source": [
    "import pandas as pd\n",
    "import sys\n",
    "!{sys.executable} -m pip install openpyxl\n",
    "# %pip install matplotlib\n",
    "import numpy as np\n",
    "import matplotlib.pyplot as plt\n",
    "%matplotlib inline"
   ]
  },
  {
   "cell_type": "code",
   "execution_count": 397,
   "metadata": {},
   "outputs": [],
   "source": [
    "# Load the training data \n",
    "train_data = pd.read_csv(\"C:/Users/cdale/OneDrive/Documents/GitHub/Movie_Webscraper/sample_data/train.csv\")\n",
    "train_data.drop_duplicates()\n",
    "columns_to_drop = [\"homepage\", \"overview\", \"poster_path\", \"Keywords\", \"tagline\", \"imdb_id\", \"belongs_to_collection\", \"id\"]\n",
    "train_data = train_data.drop(columns= columns_to_drop)\n",
    "\n",
    "# train_data\n",
    "# Explore the training data\n",
    "# print(train_data.head(20))\n",
    "# print(train_data.info())\n"
   ]
  },
  {
   "cell_type": "code",
   "execution_count": 398,
   "metadata": {},
   "outputs": [],
   "source": [
    "# Filling in empty data with null values\n",
    "train_data.replace('', pd.NA, inplace=True)\n",
    "train_data.replace(0, pd.NA, inplace=True)\n",
    "\n",
    "# Dropping duplicate values\n",
    "train_data = train_data.drop_duplicates()"
   ]
  },
  {
   "cell_type": "code",
   "execution_count": 399,
   "metadata": {},
   "outputs": [],
   "source": [
    "train_data.dropna(subset=['production_companies', 'production_countries', 'spoken_languages', 'cast', 'crew', 'budget', 'genres', 'original_language', 'popularity', 'release_date', 'runtime', 'status', 'title', 'revenue'  ], inplace=True)\n",
    "\n",
    "# train_data\n"
   ]
  },
  {
   "cell_type": "code",
   "execution_count": 400,
   "metadata": {},
   "outputs": [],
   "source": [
    "# Pulls the 'id' key from the dictionary and replaces that number in the \"id\" column. Then deletes the \"belongs to collection\" column.\n",
    "# train_data['belongs_to_collection'] = train_data['belongs_to_collection'].apply(eval)\n",
    "# train_data['id'] = train_data['belongs_to_collection'].apply(lambda x: x[0]['id'])\n",
    "\n",
    "# Pulls the genre names from the dictionary in the \"genres\" column and add them to a new column \"genre\". Then deletes the \"genres\" column.\n",
    "train_data['genres'] = train_data['genres'].apply(eval)\n",
    "train_data['genre'] = train_data['genres'].apply(lambda x: \", \".join([genre['name'] for genre in x]))\n",
    "train_data = train_data.drop(columns= \"genres\")\n",
    "\n",
    "\n",
    "# Pulls the production company names out of the \"production_companies\" column and places them in the new column \"production_company\". Then deletes the \"prodution_companies\" column.\n",
    "train_data['production_companies'] = train_data['production_companies'].apply(eval)\n",
    "train_data['production_company'] = train_data['production_companies'].apply(lambda x: \", \".join([company['name'] for company in x]))\n",
    "train_data = train_data.drop(columns= \"production_companies\")\n",
    "\n",
    "\n",
    "# Pulls the production country names out of the \"production_countries\" column and places them in the new column \"production_country\". Then deletes the \"prodution_country\" column.\n",
    "train_data['production_countries'] = train_data['production_countries'].apply(eval)\n",
    "train_data['production_country'] = train_data['production_countries'].apply(lambda x: \", \".join([country['name'] for country in x]))\n",
    "train_data = train_data.drop(columns= \"production_countries\")\n",
    "\n",
    "\n",
    "# Pulls the spoken languages out of the \"spoken_languages\" column and places them in the new column \"spoken_language\". Then deletes the \"spoken_language\" column.\n",
    "train_data['spoken_languages'] = train_data['spoken_languages'].apply(eval)\n",
    "train_data['spoken_language'] = train_data['spoken_languages'].apply(lambda x: \", \".join([language['name'] for language in x]))\n",
    "train_data = train_data.drop(columns= \"spoken_languages\")\n",
    "\n",
    "\n",
    "\n",
    "# Isolates the \"character\" and \"name\"(actor) keys from the \"cast\" column and puts them in the new column \"cast_info\"\n",
    "train_data['cast'] = train_data['cast'].apply(eval)\n",
    "train_data['cast_info'] = train_data['cast'].apply(lambda x: [{'character': actor['character'], 'name': actor['name']} for actor in x] if isinstance(x, list) else [])\n",
    "train_data = train_data.drop(columns='cast')\n",
    "train_data['actors'] = train_data['cast_info'].apply(lambda x: \", \".join([actor['name'] for actor in x]))\n",
    "train_data = train_data.drop(columns='cast_info')\n",
    "\n",
    "\n",
    "#Isolates the 'job' and 'name' key in the crew column\n",
    "train_data['crew'] = train_data['crew'].apply(eval)\n",
    "def extract_director_name(crews):\n",
    "    for crew in crews:\n",
    "        if 'job' in crew and crew['job'] == \"Director\" and 'name' in crew:\n",
    "            return crew['name']\n",
    "    return 0\n",
    "    \n",
    "train_data['director'] = train_data['crew'].apply(extract_director_name)\n",
    "\n",
    "train_data = train_data.drop(columns='crew')\n",
    "\n",
    "train_data.replace('', pd.NA, inplace=True)\n",
    "train_data.replace(0, pd.NA, inplace=True)\n",
    "\n",
    "\n",
    "train_data.dropna(subset=['genre', 'production_company', 'production_country', 'spoken_language', 'actors', 'director' ], inplace=True)\n",
    "\n",
    "\n",
    "# train_data\n",
    "\n",
    "\n"
   ]
  },
  {
   "cell_type": "code",
   "execution_count": 401,
   "metadata": {},
   "outputs": [
    {
     "name": "stderr",
     "output_type": "stream",
     "text": [
      "C:\\Users\\cdale\\AppData\\Local\\Temp\\ipykernel_17936\\1447926577.py:1: UserWarning: Could not infer format, so each element will be parsed individually, falling back to `dateutil`. To ensure parsing is consistent and as-expected, please specify a format.\n",
      "  train_data['release_date'] = pd.to_datetime(train_data['release_date'])\n"
     ]
    }
   ],
   "source": [
    "train_data['release_date'] = pd.to_datetime(train_data['release_date'])\n",
    "\n",
    "train_data['month'] = train_data['release_date'].dt.month\n",
    "\n",
    "train_data['year'] = train_data['release_date'].dt.year\n",
    "\n",
    "train_data = train_data.drop(columns='release_date')"
   ]
  },
  {
   "cell_type": "code",
   "execution_count": 402,
   "metadata": {},
   "outputs": [
    {
     "data": {
      "text/plain": [
       "<bound method IndexOpsMixin.nunique of 0                                                 English\n",
       "1                                                 English\n",
       "2                                                 English\n",
       "6                                                 English\n",
       "9                                                 English\n",
       "                              ...                        \n",
       "2992                                          No Language\n",
       "2993    български език, English, Français, Pусский, Es...\n",
       "2997                                              English\n",
       "2998                                              English\n",
       "2999                                              English\n",
       "Name: spoken_language, Length: 2089, dtype: object>"
      ]
     },
     "execution_count": 402,
     "metadata": {},
     "output_type": "execute_result"
    }
   ],
   "source": [
    "# train_data['original_language'].unique()\n",
    "train_data['spoken_language'] = train_data['spoken_language'].apply(lambda x: x.lstrip(','))\n",
    "train_data['spoken_language'].nunique"
   ]
  },
  {
   "cell_type": "code",
   "execution_count": 403,
   "metadata": {},
   "outputs": [],
   "source": [
    "def english_spoken(spoken_language):\n",
    "    return 'English' in spoken_language\n",
    "\n",
    "train_data['english_present'] = train_data['spoken_language'].apply(english_spoken).astype(int)"
   ]
  },
  {
   "cell_type": "code",
   "execution_count": 404,
   "metadata": {},
   "outputs": [
    {
     "data": {
      "text/plain": [
       "<Axes: >"
      ]
     },
     "execution_count": 404,
     "metadata": {},
     "output_type": "execute_result"
    },
    {
     "data": {
      "image/png": "[encoded data removed]",
      "text/plain": [
       "<Figure size 640x480 with 1 Axes>"
      ]
     },
     "metadata": {},
     "output_type": "display_data"
    }
   ],
   "source": [
    "train_data['budget'].hist(bins=50)\n",
    "\n"
   ]
  },
  {
   "cell_type": "code",
   "execution_count": 405,
   "metadata": {},
   "outputs": [
    {
     "ename": "TypeError",
     "evalue": "loop of ufunc does not support argument 0 of type int which has no callable sqrt method",
     "output_type": "error",
     "traceback": [
      "\u001b[1;31m---------------------------------------------------------------------------\u001b[0m",
      "\u001b[1;31mAttributeError\u001b[0m                            Traceback (most recent call last)",
      "\u001b[1;31mAttributeError\u001b[0m: 'int' object has no attribute 'sqrt'",
      "\nThe above exception was the direct cause of the following exception:\n",
      "\u001b[1;31mTypeError\u001b[0m                                 Traceback (most recent call last)",
      "Cell \u001b[1;32mIn[405], line 1\u001b[0m\n\u001b[1;32m----> 1\u001b[0m budget_square_root \u001b[38;5;241m=\u001b[39m \u001b[43mnp\u001b[49m\u001b[38;5;241;43m.\u001b[39;49m\u001b[43msqrt\u001b[49m\u001b[43m(\u001b[49m\u001b[43mtrain_data\u001b[49m\u001b[43m[\u001b[49m\u001b[38;5;124;43m'\u001b[39;49m\u001b[38;5;124;43mbudget\u001b[39;49m\u001b[38;5;124;43m'\u001b[39;49m\u001b[43m]\u001b[49m\u001b[43m)\u001b[49m\n\u001b[0;32m      3\u001b[0m budget_square_root\u001b[38;5;241m.\u001b[39mhist(bins \u001b[38;5;241m=\u001b[39m \u001b[38;5;241m50\u001b[39m)\n",
      "File \u001b[1;32mc:\\Users\\cdale\\AppData\\Local\\Programs\\Python\\Python311\\Lib\\site-packages\\pandas\\core\\generic.py:2016\u001b[0m, in \u001b[0;36mNDFrame.__array_ufunc__\u001b[1;34m(self, ufunc, method, *inputs, **kwargs)\u001b[0m\n\u001b[0;32m   2012\u001b[0m \u001b[38;5;129m@final\u001b[39m\n\u001b[0;32m   2013\u001b[0m \u001b[38;5;28;01mdef\u001b[39;00m \u001b[38;5;21m__array_ufunc__\u001b[39m(\n\u001b[0;32m   2014\u001b[0m     \u001b[38;5;28mself\u001b[39m, ufunc: np\u001b[38;5;241m.\u001b[39mufunc, method: \u001b[38;5;28mstr\u001b[39m, \u001b[38;5;241m*\u001b[39minputs: Any, \u001b[38;5;241m*\u001b[39m\u001b[38;5;241m*\u001b[39mkwargs: Any\n\u001b[0;32m   2015\u001b[0m ):\n\u001b[1;32m-> 2016\u001b[0m     \u001b[38;5;28;01mreturn\u001b[39;00m \u001b[43marraylike\u001b[49m\u001b[38;5;241;43m.\u001b[39;49m\u001b[43marray_ufunc\u001b[49m\u001b[43m(\u001b[49m\u001b[38;5;28;43mself\u001b[39;49m\u001b[43m,\u001b[49m\u001b[43m \u001b[49m\u001b[43mufunc\u001b[49m\u001b[43m,\u001b[49m\u001b[43m \u001b[49m\u001b[43mmethod\u001b[49m\u001b[43m,\u001b[49m\u001b[43m \u001b[49m\u001b[38;5;241;43m*\u001b[39;49m\u001b[43minputs\u001b[49m\u001b[43m,\u001b[49m\u001b[43m \u001b[49m\u001b[38;5;241;43m*\u001b[39;49m\u001b[38;5;241;43m*\u001b[39;49m\u001b[43mkwargs\u001b[49m\u001b[43m)\u001b[49m\n",
      "File \u001b[1;32mc:\\Users\\cdale\\AppData\\Local\\Programs\\Python\\Python311\\Lib\\site-packages\\pandas\\core\\arraylike.py:396\u001b[0m, in \u001b[0;36marray_ufunc\u001b[1;34m(self, ufunc, method, *inputs, **kwargs)\u001b[0m\n\u001b[0;32m    393\u001b[0m \u001b[38;5;28;01melif\u001b[39;00m \u001b[38;5;28mself\u001b[39m\u001b[38;5;241m.\u001b[39mndim \u001b[38;5;241m==\u001b[39m \u001b[38;5;241m1\u001b[39m:\n\u001b[0;32m    394\u001b[0m     \u001b[38;5;66;03m# ufunc(series, ...)\u001b[39;00m\n\u001b[0;32m    395\u001b[0m     inputs \u001b[38;5;241m=\u001b[39m \u001b[38;5;28mtuple\u001b[39m(extract_array(x, extract_numpy\u001b[38;5;241m=\u001b[39m\u001b[38;5;28;01mTrue\u001b[39;00m) \u001b[38;5;28;01mfor\u001b[39;00m x \u001b[38;5;129;01min\u001b[39;00m inputs)\n\u001b[1;32m--> 396\u001b[0m     result \u001b[38;5;241m=\u001b[39m \u001b[38;5;28;43mgetattr\u001b[39;49m\u001b[43m(\u001b[49m\u001b[43mufunc\u001b[49m\u001b[43m,\u001b[49m\u001b[43m \u001b[49m\u001b[43mmethod\u001b[49m\u001b[43m)\u001b[49m\u001b[43m(\u001b[49m\u001b[38;5;241;43m*\u001b[39;49m\u001b[43minputs\u001b[49m\u001b[43m,\u001b[49m\u001b[43m \u001b[49m\u001b[38;5;241;43m*\u001b[39;49m\u001b[38;5;241;43m*\u001b[39;49m\u001b[43mkwargs\u001b[49m\u001b[43m)\u001b[49m\n\u001b[0;32m    397\u001b[0m \u001b[38;5;28;01melse\u001b[39;00m:\n\u001b[0;32m    398\u001b[0m     \u001b[38;5;66;03m# ufunc(dataframe)\u001b[39;00m\n\u001b[0;32m    399\u001b[0m     \u001b[38;5;28;01mif\u001b[39;00m method \u001b[38;5;241m==\u001b[39m \u001b[38;5;124m\"\u001b[39m\u001b[38;5;124m__call__\u001b[39m\u001b[38;5;124m\"\u001b[39m \u001b[38;5;129;01mand\u001b[39;00m \u001b[38;5;129;01mnot\u001b[39;00m kwargs:\n\u001b[0;32m    400\u001b[0m         \u001b[38;5;66;03m# for np.<ufunc>(..) calls\u001b[39;00m\n\u001b[0;32m    401\u001b[0m         \u001b[38;5;66;03m# kwargs cannot necessarily be handled block-by-block, so only\u001b[39;00m\n\u001b[0;32m    402\u001b[0m         \u001b[38;5;66;03m# take this path if there are no kwargs\u001b[39;00m\n",
      "\u001b[1;31mTypeError\u001b[0m: loop of ufunc does not support argument 0 of type int which has no callable sqrt method"
     ]
    }
   ],
   "source": [
    "budget_square_root = np.sqrt(train_data['budget'].astype(float))\n",
    "\n",
    "budget_square_root.hist(bins = 50)"
   ]
  },
  {
   "cell_type": "code",
   "execution_count": 348,
   "metadata": {},
   "outputs": [],
   "source": [
    "train_data_file = \"TrainData.xlsx\"\n",
    "\n",
    "train_data.to_excel(train_data_file)\n"
   ]
  }
 ],
 "metadata": {
  "kernelspec": {
   "display_name": "Python 3",
   "language": "python",
   "name": "python3"
  },
  "language_info": {
   "codemirror_mode": {
    "name": "ipython",
    "version": 3
   },
   "file_extension": ".py",
   "mimetype": "text/x-python",
   "name": "python",
   "nbconvert_exporter": "python",
   "pygments_lexer": "ipython3",
   "version": "3.11.4"
  }
 },
 "nbformat": 4,
 "nbformat_minor": 2
}
