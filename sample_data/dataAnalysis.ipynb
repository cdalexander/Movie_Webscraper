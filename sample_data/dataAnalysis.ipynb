{
 "cells": [
  {
   "cell_type": "code",
   "execution_count": 396,
   "metadata": {},
   "outputs": [
    {
     "name": "stdout",
     "output_type": "stream",
     "text": [
      "Requirement already satisfied: openpyxl in c:\\users\\cdale\\appdata\\local\\programs\\python\\python311\\lib\\site-packages (3.1.2)\n",
      "Requirement already satisfied: et-xmlfile in c:\\users\\cdale\\appdata\\local\\programs\\python\\python311\\lib\\site-packages (from openpyxl) (1.1.0)\n"
     ]
    },
    {
     "name": "stderr",
     "output_type": "stream",
     "text": [
      "\n",
      "[notice] A new release of pip is available: 23.1.2 -> 23.3.2\n",
      "[notice] To update, run: python.exe -m pip install --upgrade pip\n"
     ]
    }
   ],
   "source": [
    "import pandas as pd\n",
    "import sys\n",
    "!{sys.executable} -m pip install openpyxl\n",
    "# %pip install matplotlib\n",
    "import numpy as np\n",
    "import matplotlib.pyplot as plt\n",
    "%matplotlib inline"
   ]
  },
  {
   "cell_type": "code",
   "execution_count": 397,
   "metadata": {},
   "outputs": [],
   "source": [
    "# Load the training data \n",
    "train_data = pd.read_csv(\"C:/Users/cdale/OneDrive/Documents/GitHub/Movie_Webscraper/sample_data/train.csv\")\n",
    "train_data.drop_duplicates()\n",
    "columns_to_drop = [\"homepage\", \"overview\", \"poster_path\", \"Keywords\", \"tagline\", \"imdb_id\", \"belongs_to_collection\", \"id\"]\n",
    "train_data = train_data.drop(columns= columns_to_drop)\n",
    "\n",
    "# train_data\n",
    "# Explore the training data\n",
    "# print(train_data.head(20))\n",
    "# print(train_data.info())\n"
   ]
  },
  {
   "cell_type": "code",
   "execution_count": 398,
   "metadata": {},
   "outputs": [],
   "source": [
    "# Filling in empty data with null values\n",
    "train_data.replace('', pd.NA, inplace=True)\n",
    "train_data.replace(0, pd.NA, inplace=True)\n",
    "\n",
    "# Dropping duplicate values\n",
    "train_data = train_data.drop_duplicates()"
   ]
  },
  {
   "cell_type": "code",
   "execution_count": 399,
   "metadata": {},
   "outputs": [],
   "source": [
    "train_data.dropna(subset=['production_companies', 'production_countries', 'spoken_languages', 'cast', 'crew', 'budget', 'genres', 'original_language', 'popularity', 'release_date', 'runtime', 'status', 'title', 'revenue'  ], inplace=True)\n",
    "\n",
    "# train_data\n"
   ]
  },
  {
   "cell_type": "code",
   "execution_count": 400,
   "metadata": {},
   "outputs": [],
   "source": [
    "# Pulls the 'id' key from the dictionary and replaces that number in the \"id\" column. Then deletes the \"belongs to collection\" column.\n",
    "# train_data['belongs_to_collection'] = train_data['belongs_to_collection'].apply(eval)\n",
    "# train_data['id'] = train_data['belongs_to_collection'].apply(lambda x: x[0]['id'])\n",
    "\n",
    "# Pulls the genre names from the dictionary in the \"genres\" column and add them to a new column \"genre\". Then deletes the \"genres\" column.\n",
    "train_data['genres'] = train_data['genres'].apply(eval)\n",
    "train_data['genre'] = train_data['genres'].apply(lambda x: \", \".join([genre['name'] for genre in x]))\n",
    "train_data = train_data.drop(columns= \"genres\")\n",
    "\n",
    "\n",
    "# Pulls the production company names out of the \"production_companies\" column and places them in the new column \"production_company\". Then deletes the \"prodution_companies\" column.\n",
    "train_data['production_companies'] = train_data['production_companies'].apply(eval)\n",
    "train_data['production_company'] = train_data['production_companies'].apply(lambda x: \", \".join([company['name'] for company in x]))\n",
    "train_data = train_data.drop(columns= \"production_companies\")\n",
    "\n",
    "\n",
    "# Pulls the production country names out of the \"production_countries\" column and places them in the new column \"production_country\". Then deletes the \"prodution_country\" column.\n",
    "train_data['production_countries'] = train_data['production_countries'].apply(eval)\n",
    "train_data['production_country'] = train_data['production_countries'].apply(lambda x: \", \".join([country['name'] for country in x]))\n",
    "train_data = train_data.drop(columns= \"production_countries\")\n",
    "\n",
    "\n",
    "# Pulls the spoken languages out of the \"spoken_languages\" column and places them in the new column \"spoken_language\". Then deletes the \"spoken_language\" column.\n",
    "train_data['spoken_languages'] = train_data['spoken_languages'].apply(eval)\n",
    "train_data['spoken_language'] = train_data['spoken_languages'].apply(lambda x: \", \".join([language['name'] for language in x]))\n",
    "train_data = train_data.drop(columns= \"spoken_languages\")\n",
    "\n",
    "\n",
    "\n",
    "# Isolates the \"character\" and \"name\"(actor) keys from the \"cast\" column and puts them in the new column \"cast_info\"\n",
    "train_data['cast'] = train_data['cast'].apply(eval)\n",
    "train_data['cast_info'] = train_data['cast'].apply(lambda x: [{'character': actor['character'], 'name': actor['name']} for actor in x] if isinstance(x, list) else [])\n",
    "train_data = train_data.drop(columns='cast')\n",
    "train_data['actors'] = train_data['cast_info'].apply(lambda x: \", \".join([actor['name'] for actor in x]))\n",
    "train_data = train_data.drop(columns='cast_info')\n",
    "\n",
    "\n",
    "#Isolates the 'job' and 'name' key in the crew column\n",
    "train_data['crew'] = train_data['crew'].apply(eval)\n",
    "def extract_director_name(crews):\n",
    "    for crew in crews:\n",
    "        if 'job' in crew and crew['job'] == \"Director\" and 'name' in crew:\n",
    "            return crew['name']\n",
    "    return 0\n",
    "    \n",
    "train_data['director'] = train_data['crew'].apply(extract_director_name)\n",
    "\n",
    "train_data = train_data.drop(columns='crew')\n",
    "\n",
    "train_data.replace('', pd.NA, inplace=True)\n",
    "train_data.replace(0, pd.NA, inplace=True)\n",
    "\n",
    "\n",
    "train_data.dropna(subset=['genre', 'production_company', 'production_country', 'spoken_language', 'actors', 'director' ], inplace=True)\n",
    "\n",
    "\n",
    "# train_data\n",
    "\n",
    "\n"
   ]
  },
  {
   "cell_type": "code",
   "execution_count": 401,
   "metadata": {},
   "outputs": [
    {
     "name": "stderr",
     "output_type": "stream",
     "text": [
      "C:\\Users\\cdale\\AppData\\Local\\Temp\\ipykernel_17936\\1447926577.py:1: UserWarning: Could not infer format, so each element will be parsed individually, falling back to `dateutil`. To ensure parsing is consistent and as-expected, please specify a format.\n",
      "  train_data['release_date'] = pd.to_datetime(train_data['release_date'])\n"
     ]
    }
   ],
   "source": [
    "train_data['release_date'] = pd.to_datetime(train_data['release_date'])\n",
    "\n",
    "train_data['month'] = train_data['release_date'].dt.month\n",
    "\n",
    "train_data['year'] = train_data['release_date'].dt.year\n",
    "\n",
    "train_data = train_data.drop(columns='release_date')"
   ]
  },
  {
   "cell_type": "code",
   "execution_count": 402,
   "metadata": {},
   "outputs": [
    {
     "data": {
      "text/plain": [
       "<bound method IndexOpsMixin.nunique of 0                                                 English\n",
       "1                                                 English\n",
       "2                                                 English\n",
       "6                                                 English\n",
       "9                                                 English\n",
       "                              ...                        \n",
       "2992                                          No Language\n",
       "2993    български език, English, Français, Pусский, Es...\n",
       "2997                                              English\n",
       "2998                                              English\n",
       "2999                                              English\n",
       "Name: spoken_language, Length: 2089, dtype: object>"
      ]
     },
     "execution_count": 402,
     "metadata": {},
     "output_type": "execute_result"
    }
   ],
   "source": [
    "# train_data['original_language'].unique()\n",
    "train_data['spoken_language'] = train_data['spoken_language'].apply(lambda x: x.lstrip(','))\n",
    "train_data['spoken_language'].nunique"
   ]
  },
  {
   "cell_type": "code",
   "execution_count": 403,
   "metadata": {},
   "outputs": [],
   "source": [
    "def english_spoken(spoken_language):\n",
    "    return 'English' in spoken_language\n",
    "\n",
    "train_data['english_present'] = train_data['spoken_language'].apply(english_spoken).astype(int)"
   ]
  },
  {
   "cell_type": "code",
   "execution_count": 404,
   "metadata": {},
   "outputs": [
    {
     "data": {
      "text/plain": [
       "<Axes: >"
      ]
     },
     "execution_count": 404,
     "metadata": {},
     "output_type": "execute_result"
    },
    {
     "data": {
      "image/png": "[encoded data removed]",
      "text/plain": [
       "<Figure size 640x480 with 1 Axes>"
      ]
     },
     "metadata": {},
     "output_type": "display_data"
    }
   ],
   "source": [
    "train_data['budget'].hist(bins=50)\n",
    "\n"
   ]
  },
  {
   "cell_type": "code",
   "execution_count": 406,
   "metadata": {},
   "outputs": [
    {
     "data": {
      "text/plain": [
       "<Axes: >"
      ]
     },
     "execution_count": 406,
     "metadata": {},
     "output_type": "execute_result"
    },
    {
     "data": {
      "image/png": "[encoded data removed]",
      "text/plain": [
       "<Figure size 640x480 with 1 Axes>"
      ]
     },
     "metadata": {},
     "output_type": "display_data"
    }
   ],
   "source": [
    "budget_square_root = np.sqrt(train_data['budget'].astype(float))\n",
    "\n",
    "budget_square_root.hist(bins = 50)"
   ]
  },
  {
   "cell_type": "code",
   "execution_count": 407,
   "metadata": {},
   "outputs": [
    {
     "data": {
      "text/plain": [
       "<Axes: >"
      ]
     },
     "execution_count": 407,
     "metadata": {},
     "output_type": "execute_result"
    },
    {
     "data": {
      "image/png": "[encoded data removed]",
      "text/plain": [
       "<Figure size 640x480 with 1 Axes>"
      ]
     },
     "metadata": {},
     "output_type": "display_data"
    }
   ],
   "source": [
    "train_data['runtime'].hist(bins=50)"
   ]
  },
  {
   "cell_type": "code",
   "execution_count": 408,
   "metadata": {},
   "outputs": [
    {
     "data": {
      "text/plain": [
       "<Axes: >"
      ]
     },
     "execution_count": 408,
     "metadata": {},
     "output_type": "execute_result"
    },
    {
     "data": {
      "image/png": "[encoded data removed]",
      "text/plain": [
       "<Figure size 640x480 with 1 Axes>"
      ]
     },
     "metadata": {},
     "output_type": "display_data"
    }
   ],
   "source": [
    "train_data['popularity'].hist(bins=50)"
   ]
  },
  {
   "cell_type": "code",
   "execution_count": 409,
   "metadata": {},
   "outputs": [
    {
     "data": {
      "text/plain": [
       "<Axes: >"
      ]
     },
     "execution_count": 409,
     "metadata": {},
     "output_type": "execute_result"
    },
    {
     "data": {
      "image/png": "[encoded data removed]",
      "text/plain": [
       "<Figure size 640x480 with 1 Axes>"
      ]
     },
     "metadata": {},
     "output_type": "display_data"
    }
   ],
   "source": [
    "train_data['revenue'].hist(bins=50)"
   ]
  },
  {
   "cell_type": "code",
   "execution_count": 416,
   "metadata": {},
   "outputs": [
    {
     "name": "stdout",
     "output_type": "stream",
     "text": [
      "        budget original_language original_title  popularity runtime    status  \\\n",
      "15      500000                sr        Šišanje    1.018477    97.0  Released   \n",
      "39     3800000                en   Major Dundee    3.055936   123.0  Released   \n",
      "66    12000000                en  Henry's Crime    5.145185   108.0  Released   \n",
      "79     1500000                en             31    6.636625   102.0  Released   \n",
      "96     2500000                fr   Nuit Blanche    2.942355    98.0  Released   \n",
      "...        ...               ...            ...         ...     ...       ...   \n",
      "2905   8000000                en    Prefontaine    2.938180   106.0  Released   \n",
      "2939   9500000                en          Trust    7.778097   104.0  Released   \n",
      "2942  12000000                zh          消失的子弹    1.675406   108.0  Released   \n",
      "2982    500000                en        Smashed    4.893812    85.0  Released   \n",
      "2983  35000000                en  Anna Karenina    5.660835   108.0  Released   \n",
      "\n",
      "                    title  revenue                              genre  \\\n",
      "15               Skinning      198               Action, Crime, Drama   \n",
      "39           Major Dundee    14873                       War, Western   \n",
      "66          Henry's Crime   204940                      Crime, Comedy   \n",
      "79                     31   779820                   Horror, Thriller   \n",
      "96        Sleepless Night     3358  Action, Comedy, Thriller, Romance   \n",
      "...                   ...      ...                                ...   \n",
      "2905          Prefontaine   589304                     Drama, Romance   \n",
      "2939                Trust   120000             Crime, Drama, Thriller   \n",
      "2942  The Bullet Vanishes   117629                    Action, Mystery   \n",
      "2982              Smashed   376597                              Drama   \n",
      "2983        Anna Karenina   791830                     Drama, Romance   \n",
      "\n",
      "                                     production_company  \\\n",
      "15                                           Hypnopolis   \n",
      "39    Columbia Pictures Corporation, Jerry Bresler P...   \n",
      "66    Company Films, Moving Pictures Film and Televi...   \n",
      "79    Spectacle Entertainment Group, Windy Hill Pict...   \n",
      "96    Procirep, Canal+, Film Fund Luxembourg, Centre...   \n",
      "...                                                 ...   \n",
      "2905                                 Hollywood Pictures   \n",
      "2939  Nu Image Films, Millennium Films, Dark Harbor ...   \n",
      "2942                            Emperor Motion Pictures   \n",
      "2982                         Super Crispy Entertainment   \n",
      "2983  Icon Entertainment International, Warner Bros....   \n",
      "\n",
      "                            production_country             spoken_language  \\\n",
      "15                                      Serbia                      Srpski   \n",
      "39                    United States of America  English, Français, Español   \n",
      "66                    United States of America                     English   \n",
      "79    United Kingdom, United States of America   Deutsch, English, Español   \n",
      "96                                      France                    Français   \n",
      "...                                        ...                         ...   \n",
      "2905                  United States of America                     English   \n",
      "2939                  United States of America                     English   \n",
      "2942                          China, Hong Kong    广州话 / 廣州話, Italiano, 普通话   \n",
      "2982                  United States of America                     English   \n",
      "2983                  United States of America                     English   \n",
      "\n",
      "                                                 actors           director  \\\n",
      "15    Nikola Rakoƒçeviƒá, Viktor Saviƒá, Nata≈°a Tap...  Stevan Filipoviƒá   \n",
      "39    Charlton Heston, Richard Harris, Jim Hutton, J...      Sam Peckinpah   \n",
      "66    Keanu Reeves, Vera Farmiga, James Caan, Judy G...   Malcolm Venville   \n",
      "79    Sheri Moon Zombie, Meg Foster, Malcolm McDowel...         Rob Zombie   \n",
      "96    Tomer Sisley, Julien Boisselier, JoeyStarr, Se...  Fr√©d√©ric Jardin   \n",
      "...                                                 ...                ...   \n",
      "2905  Jared Leto, R. Lee Ermey, Ed O'Neill, Breckin ...        Steve James   \n",
      "2939  Clive Owen, Catherine Keener, Liana Liberato, ...    David Schwimmer   \n",
      "2942  Lau Ching-Wan, Nicholas Tse, Yang Mi, Âê¥Âàö, ...      Law Chi-Leung   \n",
      "2982  Mary Elizabeth Winstead, Aaron Paul, Octavia S...     James Ponsoldt   \n",
      "2983  Sophie Marceau, Sean Bean, Alfred Molina, Mia ...       Bernard Rose   \n",
      "\n",
      "      month  year  english_present  \n",
      "15       10  2010                0  \n",
      "39        4  2065                1  \n",
      "66        1  2010                1  \n",
      "79        9  2016                1  \n",
      "96       11  2011                0  \n",
      "...     ...   ...              ...  \n",
      "2905      1  1997                1  \n",
      "2939      9  2010                1  \n",
      "2942      8  2012                0  \n",
      "2982      9  2012                1  \n",
      "2983      4  1997                1  \n",
      "\n",
      "[183 rows x 17 columns]\n"
     ]
    }
   ],
   "source": [
    "result = train_data[train_data['revenue'] < 1000000]\n",
    "\n",
    "print(result)"
   ]
  },
  {
   "cell_type": "code",
   "execution_count": 348,
   "metadata": {},
   "outputs": [],
   "source": [
    "train_data_file = \"TrainData.xlsx\"\n",
    "\n",
    "train_data.to_excel(train_data_file)\n"
   ]
  }
 ],
 "metadata": {
  "kernelspec": {
   "display_name": "Python 3",
   "language": "python",
   "name": "python3"
  },
  "language_info": {
   "codemirror_mode": {
    "name": "ipython",
    "version": 3
   },
   "file_extension": ".py",
   "mimetype": "text/x-python",
   "name": "python",
   "nbconvert_exporter": "python",
   "pygments_lexer": "ipython3",
   "version": "3.11.4"
  }
 },
 "nbformat": 4,
 "nbformat_minor": 2
}
